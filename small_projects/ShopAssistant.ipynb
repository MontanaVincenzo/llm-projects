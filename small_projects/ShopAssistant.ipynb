{
 "cells": [
  {
   "cell_type": "markdown",
   "metadata": {},
   "source": [
    "# Shop Assistant\n",
    "\n",
    "In this notebook I built a chatbot for a business use. More specifically let's pretend that an online clothes shop wants to add a chatbot assistant that informs about items and the respective prices. I decided to hidden the choice of the model from the end user."
   ]
  },
  {
   "cell_type": "code",
   "execution_count": 1,
   "metadata": {},
   "outputs": [],
   "source": [
    "import os\n",
    "import json\n",
    "from dotenv import load_dotenv\n",
    "from openai import OpenAI\n",
    "import gradio as gr\n",
    "import sqlite3\n"
   ]
  },
  {
   "cell_type": "code",
   "execution_count": 2,
   "metadata": {},
   "outputs": [],
   "source": [
    "load_dotenv(override=True)\n",
    "\n",
    "run = 'local'\n",
    "\n",
    "if run == 'local':\n",
    "    base_url = \"http://localhost:11434/v1\"\n",
    "    api_key = 'ollama'\n",
    "    MODEL = \"llama3.2\"\n",
    "    openai = OpenAI(base_url='http://localhost:11434/v1', api_key='ollama')\n",
    "else:\n",
    "    openai_api_key = os.getenv('OPENAI_API_KEY')\n",
    "    if not openai_api_key:\n",
    "        print(\"API key not found\")\n",
    "    MODEL = \"gpt-4o-mini\"\n",
    "    openai = OpenAI()"
   ]
  },
  {
   "cell_type": "code",
   "execution_count": 4,
   "metadata": {},
   "outputs": [
    {
     "data": {
      "text/plain": [
       "<sqlite3.Cursor at 0x1e619ea7840>"
      ]
     },
     "execution_count": 4,
     "metadata": {},
     "output_type": "execute_result"
    }
   ],
   "source": [
    "conn = sqlite3.connect(\"./databases/shop.db\")\n",
    "cursor = conn.cursor()\n",
    "\n",
    "cursor.execute('''\n",
    "    CREATE TABLE IF NOT EXISTS items(\n",
    "        id INTEGER PRIMARY KEY AUTOINCREMENT,\n",
    "        name TEXT NOT NULL,\n",
    "        category TEXT NOT NULL,\n",
    "        price REAL NOT NULL,\n",
    "        stock INTEGER NOT NULL       \n",
    "    )\n",
    "''')\n"
   ]
  },
  {
   "cell_type": "code",
   "execution_count": 5,
   "metadata": {},
   "outputs": [],
   "source": [
    "cursor.execute(\"SELECT COUNT(*) FROM items\")\n",
    "if cursor.fetchone()[0] == 0:\n",
    "    items = [\n",
    "        (\"airmax\", \"shoes\", 180.99, 10),\n",
    "        (\"pull&bear\", \"jeans\", 49.99, 25),\n",
    "        (\"pumplink\", \"t-shirt\", 79.99, 50),\n",
    "    ]\n",
    "    cursor.executemany(\"INSERT INTO items (name, category, price, stock) VALUES (?, ?, ?, ?)\", items)\n",
    "    conn.commit()\n",
    "conn.close()"
   ]
  },
  {
   "cell_type": "code",
   "execution_count": 7,
   "metadata": {},
   "outputs": [],
   "source": [
    "def get_item_by_name(name):\n",
    "    conn = sqlite3.connect(\"./databases/shop.db\")\n",
    "    cursor = conn.cursor()\n",
    "    cursor.execute(\"SELECT * FROM items WHERE name = ?\", (name,))\n",
    "    row = cursor.fetchone()\n",
    "    conn.close()\n",
    "    price = None\n",
    "    if row is not None:\n",
    "        stock = row[4]\n",
    "        if stock > 0: \n",
    "            price = row[3]\n",
    "    return price"
   ]
  },
  {
   "cell_type": "code",
   "execution_count": 16,
   "metadata": {},
   "outputs": [],
   "source": [
    "system_prompt = \"You are a helpful assistant for an online shop. The shop is called ClothesAI and it sells jeans, t-shirts and shoes.\"\n",
    "system_prompt += \"Give a short and kind answer in no more than a sentence about prices and product availability.\"\n",
    "system_prompt += \"Be accurate and if you don't know the answer, say so.\""
   ]
  },
  {
   "cell_type": "code",
   "execution_count": 17,
   "metadata": {},
   "outputs": [],
   "source": [
    "search_database_function = {\n",
    "    \"name\": \"get_item_by_name\",\n",
    "    \"description\": \"Get the price and the number of available items in stock. Call this whenever you need to know the item price and its availability, for example when a customer asks 'Do you have Levi's t-shirts?'\", \n",
    "    \"parameters\": {\n",
    "        \"type\": \"object\",\n",
    "        \"properties\": {\n",
    "            \"name\": {\n",
    "                \"type\" : \"string\",\n",
    "                \"description\": \"The name of the the customer is looking for\"\n",
    "            }\n",
    "        },\n",
    "        \"required\": [\"name\"],\n",
    "        \"additionalParameters\": False\n",
    "    }\n",
    "}\n",
    "\n",
    "tools = [{\"type\": \"function\", \"function\": search_database_function}]"
   ]
  },
  {
   "cell_type": "code",
   "execution_count": 18,
   "metadata": {},
   "outputs": [],
   "source": [
    "def handle_tool_call(message): \n",
    "    tool_call = message.tool_calls[0]\n",
    "    arguments = json.loads(tool_call.function.arguments)\n",
    "    item_name = arguments.get('name').strip().lower()\n",
    "    price = get_item_by_name(item_name)\n",
    "    response = {\n",
    "        \"role\": \"tool\",\n",
    "        \"content\": json.dumps({\"name\": item_name, \"price\": price}),\n",
    "        \"tool_call_id\": tool_call.id\n",
    "    }\n",
    "    return response, item_name"
   ]
  },
  {
   "cell_type": "code",
   "execution_count": 21,
   "metadata": {},
   "outputs": [
    {
     "name": "stdout",
     "output_type": "stream",
     "text": [
      "* Running on local URL:  http://127.0.0.1:7864\n",
      "\n",
      "To create a public link, set `share=True` in `launch()`.\n"
     ]
    },
    {
     "data": {
      "text/html": [
       "<div><iframe src=\"http://127.0.0.1:7864/\" width=\"100%\" height=\"500\" allow=\"autoplay; camera; microphone; clipboard-read; clipboard-write;\" frameborder=\"0\" allowfullscreen></iframe></div>"
      ],
      "text/plain": [
       "<IPython.core.display.HTML object>"
      ]
     },
     "metadata": {},
     "output_type": "display_data"
    },
    {
     "data": {
      "text/plain": []
     },
     "execution_count": 21,
     "metadata": {},
     "output_type": "execute_result"
    }
   ],
   "source": [
    "def chat(message, history):\n",
    "    messages = [{\"role\": \"system\", \"content\": system_prompt}] + history + [{\"role\": \"user\", \"content\": message}]\n",
    "    response = openai.chat.completions.create(model=MODEL, messages=messages, tools=tools)\n",
    "    \n",
    "    if response.choices[0].finish_reason==\"tool_calls\":\n",
    "        message = response.choices[0].message\n",
    "        response, item_name = handle_tool_call(message)\n",
    "        messages.append(message)\n",
    "        messages.append(response)\n",
    "        response = openai.chat.completions.create(model=MODEL, messages=messages)    \n",
    "    \n",
    "    return response.choices[0].message.content\n",
    "\n",
    "\n",
    "with gr.Blocks() as demo:\n",
    "    gr.Markdown(\"## ClothesAI chatbot\")\n",
    "    with gr.Row():\n",
    "        gr.ChatInterface(fn=chat, type=\"messages\")\n",
    "demo.launch()"
   ]
  },
  {
   "cell_type": "code",
   "execution_count": null,
   "metadata": {},
   "outputs": [],
   "source": []
  },
  {
   "cell_type": "code",
   "execution_count": null,
   "metadata": {},
   "outputs": [],
   "source": []
  }
 ],
 "metadata": {
  "kernelspec": {
   "display_name": "llms",
   "language": "python",
   "name": "python3"
  },
  "language_info": {
   "codemirror_mode": {
    "name": "ipython",
    "version": 3
   },
   "file_extension": ".py",
   "mimetype": "text/x-python",
   "name": "python",
   "nbconvert_exporter": "python",
   "pygments_lexer": "ipython3",
   "version": "3.11.11"
  }
 },
 "nbformat": 4,
 "nbformat_minor": 2
}

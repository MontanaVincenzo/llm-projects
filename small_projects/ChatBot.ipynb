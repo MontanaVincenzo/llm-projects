{
 "cells": [
  {
   "cell_type": "markdown",
   "id": "fe12c203-e6a6-452c-a655-afb8a03a4ff5",
   "metadata": {},
   "source": [
    "# Personal ChatBot Assistant\n",
    "\n",
    "Here I built a tool that takes a question and responds with an explanation.\n",
    "\n",
    "Is it possible selecting whether using a local running model (llama 3.2) or calling OpenAI APIs (4o-mini)"
   ]
  },
  {
   "cell_type": "code",
   "execution_count": 18,
   "id": "c1070317-3ed9-4659-abe3-828943230e03",
   "metadata": {},
   "outputs": [],
   "source": [
    "# imports\n",
    "from dotenv import load_dotenv\n",
    "import os\n",
    "from openai import OpenAI\n",
    "import ollama\n",
    "from IPython.display import Markdown, display"
   ]
  },
  {
   "cell_type": "code",
   "execution_count": null,
   "id": "4a456906-915a-4bfd-bb9d-57e505c5093f",
   "metadata": {},
   "outputs": [],
   "source": [
    "# Constants\n",
    "MODEL_GPT = 'gpt-4o-mini'\n",
    "MODEL_LLAMA = 'llama3.2'"
   ]
  },
  {
   "cell_type": "code",
   "execution_count": null,
   "id": "a8d7923c-5f28-4c30-8556-342d7c8497c1",
   "metadata": {},
   "outputs": [],
   "source": [
    "# Set up environment\n",
    "load_dotenv(override=True)\n",
    "apy_key = os.getenv('OPENAI_API_KEY')\n",
    "\n",
    "openai = OpenAI()"
   ]
  },
  {
   "cell_type": "code",
   "execution_count": null,
   "id": "8f7c8ea8-4082-4ad0-8751-3301adcf6538",
   "metadata": {},
   "outputs": [],
   "source": [
    "# This function returns the messages template\n",
    "def get_messages(system_prompt, user_prompt):\n",
    "    return [\n",
    "        {\"role\": \"system\", \"content\": system_prompt},\n",
    "        {\"role\": \"user\", \"content\": user_prompt}\n",
    "    ]"
   ]
  },
  {
   "cell_type": "code",
   "execution_count": null,
   "id": "d0800255-2f10-4598-a160-8a0732810f79",
   "metadata": {},
   "outputs": [],
   "source": [
    "# This function calls OpenAI API\n",
    "def openai_api_call(system_prompt, user_prompt):   \n",
    "    response = openai.chat.completions.create(\n",
    "        model=MODEL_GPT,\n",
    "        messages=get_messages(system_prompt, user_prompt)\n",
    "    )\n",
    "    return response.choices[0].message.content"
   ]
  },
  {
   "cell_type": "code",
   "execution_count": null,
   "id": "bc7a232d-9377-4f19-91f4-14b4c0e7a122",
   "metadata": {},
   "outputs": [],
   "source": [
    "# This function queries the local running model\n",
    "def ollama_call(system_prompt, user_prompt):\n",
    "    return ollama.chat(model=MODEL_LLAMA, messages=get_messages(system_prompt, user_prompt))"
   ]
  },
  {
   "cell_type": "code",
   "execution_count": null,
   "id": "221423a1-22b0-4bae-bfad-56e5be052091",
   "metadata": {},
   "outputs": [],
   "source": [
    "# This function displayes a gracefully the answer\n",
    "def display_answer(user_prompt, local=True):\n",
    "    system_prompt = \"You are a powerful assistant that takes technical question and responds with an explanation. You are provided with questions from a user. Respond in markdown.\"\n",
    "    if local:\n",
    "        response = ollama_call(system_prompt, user_prompt)\n",
    "        response = response['message']['content']\n",
    "    else:\n",
    "        response = openai_api_call(system_prompt, user_prompt)\n",
    "    display(Markdown(response))"
   ]
  },
  {
   "cell_type": "code",
   "execution_count": null,
   "id": "3f0d0137-52b0-47a8-81a8-11a90a010798",
   "metadata": {},
   "outputs": [
    {
     "data": {
      "text/markdown": [
       "This line of code utilizes Python's generator expressions and the `yield from` statement. Let's break down what it does step by step:\n",
       "\n",
       "### Code Explanation\n",
       "\n",
       "```python\n",
       "yield from {book.get(\"author\") for book in books if book.get(\"author\")}\n",
       "```\n",
       "\n",
       "1. **Set Comprehension**: \n",
       "   - The expression `{book.get(\"author\") for book in books if book.get(\"author\")}` is a **set comprehension**.\n",
       "   - It iterates over a collection called `books`, which is expected to be an iterable (like a list of dictionaries).\n",
       "   - For each `book` in `books`, it attempts to retrieve the value associated with the key `\"author\"` using `book.get(\"author\")`.\n",
       "\n",
       "2. **Condition**:\n",
       "   - The `if book.get(\"author\")` part acts as a filter. It checks if the value retrieved (the author) is truthy (i.e., not `None`, empty string, etc.). If this condition is true, the author is included in the set.\n",
       "\n",
       "3. **Set Creation**:\n",
       "   - The result is a set of unique author names because sets inherently do not allow duplicate values. If multiple books have the same author, that author will appear only once in the resulting set.\n",
       "\n",
       "4. **Yield from**:\n",
       "   - The `yield from` statement is used to yield values from an iterable. In this case, the iterable is the set of unique authors created by the set comprehension.\n",
       "   - This allows the generator to yield each author one at a time when called, rather than returning the entire set at once.\n",
       "\n",
       "### Why Use This Code?\n",
       "\n",
       "- **Uniqueness**: By using a set comprehension, the code ensures that the authors are unique and that duplicates are automatically removed.\n",
       "  \n",
       "- **Efficiency**: This approach is concise and leverages Python's built-in capabilities to filter and collect data efficiently.\n",
       "\n",
       "- **Iteration**: Using `yield from` allows the function in which this line is placed to be a generator. This means it can generate values on-the-fly and is memory-efficient, especially with a large dataset, as it doesn't require creating and storing the entire list of authors in memory at once.\n",
       "\n",
       "### Example Context\n",
       "\n",
       "Here is an example of how this might fit into a generator function:\n",
       "\n",
       "```python\n",
       "def get_unique_authors(books):\n",
       "    yield from {book.get(\"author\") for book in books if book.get(\"author\")}\n",
       "```\n",
       "\n",
       "In this example, `get_unique_authors(books)` would yield unique author names from the `books` list when iterated over.\n",
       "\n",
       "### Summary\n",
       "\n",
       "In summary, this line of code effectively retrieves a unique list of authors from a collection of books while ensuring that only valid author names are included, and does this in a memory-efficient manner using a generator."
      ],
      "text/plain": [
       "<IPython.core.display.Markdown object>"
      ]
     },
     "metadata": {},
     "output_type": "display_data"
    }
   ],
   "source": [
    "# Put here the question\n",
    "question = \"\"\"Please explain what this code does and why:\n",
    "yield from {book.get(\"author\") for book in books if book.get(\"author\")}\"\"\"\n",
    "local = True\n",
    "display_answer(question, local=local)"
   ]
  }
 ],
 "metadata": {
  "kernelspec": {
   "display_name": "Python 3 (ipykernel)",
   "language": "python",
   "name": "python3"
  },
  "language_info": {
   "codemirror_mode": {
    "name": "ipython",
    "version": 3
   },
   "file_extension": ".py",
   "mimetype": "text/x-python",
   "name": "python",
   "nbconvert_exporter": "python",
   "pygments_lexer": "ipython3",
   "version": "3.11.11"
  }
 },
 "nbformat": 4,
 "nbformat_minor": 5
}

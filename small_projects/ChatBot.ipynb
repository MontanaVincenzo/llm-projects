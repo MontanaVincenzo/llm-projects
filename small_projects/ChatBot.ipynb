{
 "cells": [
  {
   "cell_type": "markdown",
   "id": "fe12c203-e6a6-452c-a655-afb8a03a4ff5",
   "metadata": {},
   "source": [
    "# Personal ChatBot Assistant\n",
    "\n",
    "Here I built a tool that takes a question and responds with an explanation.\n",
    "\n",
    "Is it possible selecting whether using a local running model (llama 3.2) or calling APIs (4o-mini or claude-3-haiku).\n",
    "\n",
    "Gradio UI usage makes the tool more user-friendly."
   ]
  },
  {
   "cell_type": "code",
   "execution_count": null,
   "id": "c1070317-3ed9-4659-abe3-828943230e03",
   "metadata": {
    "editable": true,
    "slideshow": {
     "slide_type": ""
    },
    "tags": []
   },
   "outputs": [],
   "source": [
    "# imports\n",
    "from dotenv import load_dotenv\n",
    "import os\n",
    "from openai import OpenAI\n",
    "import ollama\n",
    "import gradio as gr\n",
    "import anthropic"
   ]
  },
  {
   "cell_type": "code",
   "execution_count": 98,
   "id": "4a456906-915a-4bfd-bb9d-57e505c5093f",
   "metadata": {
    "editable": true,
    "slideshow": {
     "slide_type": ""
    },
    "tags": []
   },
   "outputs": [],
   "source": [
    "# Constants\n",
    "MODEL_GPT = 'gpt-4o-mini'\n",
    "MODEL_LLAMA = 'llama3.2'\n",
    "MODEL_ANTHROPIC = 'claude-3-haiku-20240307'"
   ]
  },
  {
   "cell_type": "code",
   "execution_count": 99,
   "id": "a8d7923c-5f28-4c30-8556-342d7c8497c1",
   "metadata": {
    "editable": true,
    "slideshow": {
     "slide_type": ""
    },
    "tags": []
   },
   "outputs": [
    {
     "name": "stdout",
     "output_type": "stream",
     "text": [
      "OpenAI API Key found\n",
      "Anthropic API Key found\n"
     ]
    }
   ],
   "source": [
    "# Set up environment\n",
    "load_dotenv(override=True)\n",
    "openai_api_key = os.getenv('OPENAI_API_KEY')\n",
    "anthropic_api_key = os.getenv('ANTHROPIC_API_KEY')\n",
    "list_available = [\"LLaMA (local run)\"]\n",
    "if openai_api_key:\n",
    "    print(\"OpenAI API Key found\")\n",
    "    openai = OpenAI()\n",
    "    list_available.append(\"GPT\")\n",
    "else:\n",
    "    print(\"OpenAI API Key not set\")\n",
    "    \n",
    "if anthropic_api_key:\n",
    "    print(\"Anthropic API Key found\")\n",
    "    claude = anthropic.Anthropic()\n",
    "    list_available.append(\"Claude\")\n",
    "else:\n",
    "    print(\"Anthropic API Key not set\")\n",
    "\n"
   ]
  },
  {
   "cell_type": "code",
   "execution_count": 100,
   "id": "8f7c8ea8-4082-4ad0-8751-3301adcf6538",
   "metadata": {
    "editable": true,
    "slideshow": {
     "slide_type": ""
    },
    "tags": []
   },
   "outputs": [],
   "source": [
    "# This function returns the messages template\n",
    "def get_messages(system_prompt, history, user_prompt):\n",
    "    return [{\"role\": \"system\", \"content\": system_prompt}] + history + [{\"role\": \"user\", \"content\": user_prompt}]"
   ]
  },
  {
   "cell_type": "code",
   "execution_count": 101,
   "id": "d0800255-2f10-4598-a160-8a0732810f79",
   "metadata": {
    "editable": true,
    "slideshow": {
     "slide_type": ""
    },
    "tags": []
   },
   "outputs": [],
   "source": [
    "# This function calls OpenAI API\n",
    "def openai_stream(system_prompt, history, user_prompt):   \n",
    "    stream = openai.chat.completions.create(\n",
    "        model=MODEL_GPT,\n",
    "        messages=get_messages(system_prompt, history, user_prompt),\n",
    "        stream=True\n",
    "    )\n",
    "    response = \"\"\n",
    "    for chunk in stream:\n",
    "        response += chunk.choices[0].delta.content or \"\"\n",
    "        yield response"
   ]
  },
  {
   "cell_type": "code",
   "execution_count": 102,
   "id": "ed10b6bf-ca21-4994-84e1-a5e4516fb449",
   "metadata": {
    "editable": true,
    "slideshow": {
     "slide_type": ""
    },
    "tags": []
   },
   "outputs": [],
   "source": [
    "def claude_stream(system_prompt, history, user_prompt):\n",
    "    formatted_history = []\n",
    "    for el in history:\n",
    "        formatted_history.append({\"role\": el[\"role\"], \"content\": el[\"content\"]})\n",
    "    result = claude.messages.stream(\n",
    "        model=MODEL_ANTHROPIC,\n",
    "        max_tokens=1000,\n",
    "        temperature=0.7,\n",
    "        system=system_prompt,\n",
    "        messages= formatted_history + [{\"role\": \"user\", \"content\": user_prompt}],\n",
    "    )\n",
    "    response = \"\"\n",
    "    with result as stream:\n",
    "        for text in stream.text_stream:\n",
    "            response += text or \"\"\n",
    "            yield response"
   ]
  },
  {
   "cell_type": "code",
   "execution_count": 103,
   "id": "bc7a232d-9377-4f19-91f4-14b4c0e7a122",
   "metadata": {
    "editable": true,
    "slideshow": {
     "slide_type": ""
    },
    "tags": []
   },
   "outputs": [],
   "source": [
    "# This function queries the local running model\n",
    "def ollama_stream(system_prompt, history, user_prompt):\n",
    "    stream = ollama.chat(model=MODEL_LLAMA, messages=get_messages(system_prompt, history, user_prompt), stream=True)\n",
    "    response = \"\"\n",
    "    for chunk in stream:\n",
    "        response += chunk['message']['content'] or \"\"\n",
    "        yield response"
   ]
  },
  {
   "cell_type": "code",
   "execution_count": 109,
   "id": "7543acc0",
   "metadata": {},
   "outputs": [],
   "source": [
    "def chat(user_prompt, history, model):\n",
    "    system_prompt = \"You are a powerful assistant that takes questions and responds with an explanation. \" \\\n",
    "    \"Respond in markdown. \" \\\n",
    "    \"In case of mathematical formulations, write the mathematical part of the answer by delimiting \" \\\n",
    "    \"the latex part through the '$' or '$$' characters.\"\n",
    "    if model == \"GPT\":\n",
    "        result = openai_stream(system_prompt, history, user_prompt)\n",
    "    elif model == \"Claude\":\n",
    "        result = claude_stream(system_prompt, history, user_prompt)\n",
    "    else:\n",
    "        result = ollama_stream(system_prompt, history, user_prompt)\n",
    "    yield from result"
   ]
  },
  {
   "cell_type": "code",
   "execution_count": 110,
   "id": "706631ff",
   "metadata": {},
   "outputs": [
    {
     "name": "stdout",
     "output_type": "stream",
     "text": [
      "* Running on local URL:  http://127.0.0.1:7916\n",
      "\n",
      "To create a public link, set `share=True` in `launch()`.\n"
     ]
    },
    {
     "data": {
      "text/html": [
       "<div><iframe src=\"http://127.0.0.1:7916/\" width=\"100%\" height=\"500\" allow=\"autoplay; camera; microphone; clipboard-read; clipboard-write;\" frameborder=\"0\" allowfullscreen></iframe></div>"
      ],
      "text/plain": [
       "<IPython.core.display.HTML object>"
      ]
     },
     "metadata": {},
     "output_type": "display_data"
    },
    {
     "data": {
      "text/plain": []
     },
     "execution_count": 110,
     "metadata": {},
     "output_type": "execute_result"
    }
   ],
   "source": [
    "with gr.Blocks() as demo:\n",
    "    # Full-width top bar with Dropdown\n",
    "    with gr.Row():\n",
    "        dropdown = gr.Dropdown(\n",
    "            list_available,\n",
    "            label=\"Select Model\",\n",
    "            value=\"LLaMA (local run)\",\n",
    "            interactive=True\n",
    "        )\n",
    "\n",
    "    # ChatInterface below\n",
    "    view = gr.ChatInterface(\n",
    "        fn=chat,\n",
    "        additional_inputs=[dropdown],\n",
    "        chatbot=gr.Chatbot(type='messages', latex_delimiters=[{\"left\":\"$$\", \"right\": \"$$\", \"display\":True}, {\"left\":\"$\", \"right\": \"$\", \"display\":False}]),\n",
    "        type=\"messages\"\n",
    "    )\n",
    "\n",
    "demo.launch()"
   ]
  }
 ],
 "metadata": {
  "kernelspec": {
   "display_name": "llms",
   "language": "python",
   "name": "python3"
  },
  "language_info": {
   "codemirror_mode": {
    "name": "ipython",
    "version": 3
   },
   "file_extension": ".py",
   "mimetype": "text/x-python",
   "name": "python",
   "nbconvert_exporter": "python",
   "pygments_lexer": "ipython3",
   "version": "3.11.11"
  }
 },
 "nbformat": 4,
 "nbformat_minor": 5
}
